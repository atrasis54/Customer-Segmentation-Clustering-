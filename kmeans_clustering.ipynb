{
 "cells": [
  {
   "cell_type": "code",
   "execution_count": null,
   "id": "c5279f1e",
   "metadata": {},
   "outputs": [],
   "source": [
    "\n",
    "import pandas as pd\n",
    "import numpy as np\n",
    "import matplotlib.pyplot as plt\n",
    "from sklearn.cluster import KMeans\n",
    "from sklearn.preprocessing import StandardScaler\n",
    "from sklearn.decomposition import PCA\n",
    "from sklearn.metrics import silhouette_score\n"
   ]
  },
  {
   "cell_type": "markdown",
   "id": "a863f399",
   "metadata": {},
   "source": [
    "## Step 1: Load the Dataset"
   ]
  },
  {
   "cell_type": "code",
   "execution_count": null,
   "id": "d8e2ec69",
   "metadata": {},
   "outputs": [],
   "source": [
    "\n",
    "# Replace 'path_to_dataset' with the actual path to the downloaded dataset\n",
    "df = pd.read_csv('ecommerce_data.csv')\n",
    "\n",
    "# Display the first few rows of the dataset\n",
    "print(df.head())\n"
   ]
  },
  {
   "cell_type": "markdown",
   "id": "62ecb5b1",
   "metadata": {},
   "source": [
    "## Step 2: Preprocess the Data"
   ]
  },
  {
   "cell_type": "code",
   "execution_count": null,
   "id": "47788d23",
   "metadata": {},
   "outputs": [],
   "source": [
    "\n",
    "# Select relevant features for clustering\n",
    "X = df[['Annual Income (k$)', 'Spending Score (1-100)']]\n",
    "\n",
    "# Standardize the data\n",
    "scaler = StandardScaler()\n",
    "X_scaled = scaler.fit_transform(X)\n"
   ]
  },
  {
   "cell_type": "markdown",
   "id": "e496b703",
   "metadata": {},
   "source": [
    "## Step 3: Determine the Optimal Number of Clusters (Elbow Method)"
   ]
  },
  {
   "cell_type": "code",
   "execution_count": null,
   "id": "9c87dc3f",
   "metadata": {},
   "outputs": [],
   "source": [
    "\n",
    "wcss = []  # Within-Cluster-Sum-of-Squares\n",
    "for i in range(1, 11):\n",
    "    kmeans = KMeans(n_clusters=i, init='k-means++', random_state=42)\n",
    "    kmeans.fit(X_scaled)\n",
    "    wcss.append(kmeans.inertia_)\n",
    "\n",
    "# Plot the Elbow Method graph\n",
    "plt.figure(figsize=(10, 6))\n",
    "plt.plot(range(1, 11), wcss, marker='o', linestyle='--')\n",
    "plt.title('Elbow Method')\n",
    "plt.xlabel('Number of Clusters')\n",
    "plt.ylabel('WCSS')\n",
    "plt.show()\n"
   ]
  },
  {
   "cell_type": "markdown",
   "id": "220dc822",
   "metadata": {},
   "source": [
    "## Step 4: Apply K-Means Clustering"
   ]
  },
  {
   "cell_type": "code",
   "execution_count": null,
   "id": "09e107e4",
   "metadata": {},
   "outputs": [],
   "source": [
    "\n",
    "# Based on the Elbow Method, choose the optimal number of clusters (e.g., 5)\n",
    "n_clusters = 5\n",
    "kmeans = KMeans(n_clusters=n_clusters, init='k-means++', random_state=42)\n",
    "df['Cluster'] = kmeans.fit_predict(X_scaled)\n"
   ]
  },
  {
   "cell_type": "markdown",
   "id": "f3b724ea",
   "metadata": {},
   "source": [
    "## Step 5: Visualize the Clusters"
   ]
  },
  {
   "cell_type": "code",
   "execution_count": null,
   "id": "713ca30f",
   "metadata": {},
   "outputs": [],
   "source": [
    "\n",
    "plt.figure(figsize=(10, 6))\n",
    "for i in range(n_clusters):\n",
    "    plt.scatter(df[df['Cluster'] == i]['Annual Income (k$)'],\n",
    "                df[df['Cluster'] == i]['Spending Score (1-100)'],\n",
    "                label=f'Cluster {i}')\n",
    "plt.scatter(kmeans.cluster_centers_[:, 0], kmeans.cluster_centers_[:, 1],\n",
    "            s=200, c='black', marker='X', label='Centroids')\n",
    "plt.title('Customer Segmentation')\n",
    "plt.xlabel('Annual Income (k$)')\n",
    "plt.ylabel('Spending Score (1-100)')\n",
    "plt.legend()\n",
    "plt.show()\n"
   ]
  },
  {
   "cell_type": "markdown",
   "id": "7ea6f246",
   "metadata": {},
   "source": [
    "## Step 6: Evaluate the Clustering"
   ]
  },
  {
   "cell_type": "code",
   "execution_count": null,
   "id": "7971fe35",
   "metadata": {},
   "outputs": [],
   "source": [
    "\n",
    "# Calculate Silhouette Score\n",
    "silhouette_avg = silhouette_score(X_scaled, df['Cluster'])\n",
    "print(f\"Silhouette Score: {silhouette_avg}\")\n"
   ]
  },
  {
   "cell_type": "markdown",
   "id": "df0a9c43",
   "metadata": {},
   "source": [
    "## Step 7: Apply PCA for Dimensionality Reduction (Optional)"
   ]
  },
  {
   "cell_type": "code",
   "execution_count": null,
   "id": "6ea40ff3",
   "metadata": {},
   "outputs": [],
   "source": [
    "\n",
    "# If you want to visualize clusters in 2D for more than 2 features\n",
    "pca = PCA(n_components=2)\n",
    "X_pca = pca.fit_transform(X_scaled)\n",
    "\n",
    "# Plot PCA results\n",
    "plt.figure(figsize=(10, 6))\n",
    "for i in range(n_clusters):\n",
    "    plt.scatter(X_pca[df['Cluster'] == i, 0], X_pca[df['Cluster'] == i, 1],\n",
    "                label=f'Cluster {i}')\n",
    "plt.title('Customer Segmentation (PCA)')\n",
    "plt.xlabel('PCA Component 1')\n",
    "plt.ylabel('PCA Component 2')\n",
    "plt.legend()\n",
    "plt.show()\n"
   ]
  }
 ],
 "metadata": {
  "language_info": {
   "name": "python"
  }
 },
 "nbformat": 4,
 "nbformat_minor": 5
}
